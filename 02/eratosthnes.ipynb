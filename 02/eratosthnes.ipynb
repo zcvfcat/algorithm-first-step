{
 "cells": [
  {
   "cell_type": "code",
   "execution_count": 1,
   "metadata": {},
   "outputs": [
    {
     "name": "stdout",
     "output_type": "stream",
     "text": [
      "[2, 3, 5, 7, 11, 13, 17, 19, 23, 29, 31, 37, 41, 43, 47, 53, 59, 61, 67, 71, 73, 79, 83, 89, 97, 101, 103, 107, 109, 113, 127, 131, 137, 139, 149, 151, 157, 163, 167, 173, 179, 181, 191, 193, 197, 199]\n",
      "0.04075 sec\n"
     ]
    }
   ],
   "source": [
    "import math\n",
    "import time\n",
    "\n",
    "\n",
    "def get_prime(n):\n",
    "    if n <= 1:\n",
    "        return []\n",
    "    prime = [2]\n",
    "    limit = int(math.sqrt(n))\n",
    "\n",
    "    data = [i + 1 for i in range(2, n, 2)]\n",
    "\n",
    "    while limit >= data[0]:\n",
    "        prime.append(data[0])\n",
    "        data = [j for j in data if j % data[0] != 0]\n",
    "\n",
    "    return prime + data\n",
    "\n",
    "\n",
    "print(get_prime(200))\n",
    "\n",
    "start = time.time()\n",
    "get_prime(100000)\n",
    "end = time.time()\n",
    "\n",
    "print(f\"{end - start:.5f} sec\")\n"
   ]
  }
 ],
 "metadata": {
  "kernelspec": {
   "display_name": "Python 3",
   "language": "python",
   "name": "python3"
  },
  "language_info": {
   "codemirror_mode": {
    "name": "ipython",
    "version": 3
   },
   "file_extension": ".py",
   "mimetype": "text/x-python",
   "name": "python",
   "nbconvert_exporter": "python",
   "pygments_lexer": "ipython3",
   "version": "3.9.6 (default, Oct 18 2022, 12:41:40) \n[Clang 14.0.0 (clang-1400.0.29.202)]"
  },
  "orig_nbformat": 4,
  "vscode": {
   "interpreter": {
    "hash": "31f2aee4e71d21fbe5cf8b01ff0e069b9275f58929596ceb00d14d90e3e16cd6"
   }
  }
 },
 "nbformat": 4,
 "nbformat_minor": 2
}

{
 "cells": [
  {
   "cell_type": "code",
   "execution_count": 2,
   "metadata": {},
   "outputs": [],
   "source": [
    "input_price = input('insert: ')\n",
    "product_price = input('product: ')\n",
    "change = int(input_price) - int(product_price)\n"
   ]
  },
  {
   "cell_type": "code",
   "execution_count": 3,
   "metadata": {},
   "outputs": [
    {
     "name": "stdout",
     "output_type": "stream",
     "text": [
      "5000: 0\n",
      "1000: 4\n",
      "500: 0\n",
      "100: 0\n",
      "50: 0\n",
      "10: 0\n",
      "5: 0\n",
      "1: 0\n"
     ]
    }
   ],
   "source": [
    "coin = [5000, 1000, 500, 100, 50, 10, 5, 1]\n",
    "\n",
    "for i in coin:\n",
    "    r, change = divmod(change, i)\n",
    "    print(str(i) + ': ' + str(r))"
   ]
  }
 ],
 "metadata": {
  "kernelspec": {
   "display_name": "Python 3",
   "language": "python",
   "name": "python3"
  },
  "language_info": {
   "codemirror_mode": {
    "name": "ipython",
    "version": 3
   },
   "file_extension": ".py",
   "mimetype": "text/x-python",
   "name": "python",
   "nbconvert_exporter": "python",
   "pygments_lexer": "ipython3",
   "version": "3.9.6"
  },
  "orig_nbformat": 4,
  "vscode": {
   "interpreter": {
    "hash": "31f2aee4e71d21fbe5cf8b01ff0e069b9275f58929596ceb00d14d90e3e16cd6"
   }
  }
 },
 "nbformat": 4,
 "nbformat_minor": 2
}

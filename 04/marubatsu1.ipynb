{
 "cells": [
  {
   "cell_type": "code",
   "execution_count": 3,
   "metadata": {},
   "outputs": [
    {
     "name": "stdout",
     "output_type": "stream",
     "text": [
      "['0b101100001', '0b10011110']\n",
      "o나 x 3개가 나열되었습니다.\n"
     ]
    }
   ],
   "source": [
    "import random\n",
    "\n",
    "goal = [0b111000000, 0b000111000, 0b000000111, 0b100100100,\n",
    "        0b010010010, 0b001001001, 0b100010001, 0b001010100]\n",
    "\n",
    "def check(player):\n",
    "    for mask in goal:\n",
    "        if player & mask == mask:\n",
    "            return True\n",
    "    return False\n",
    "\n",
    "def play(p1, p2):\n",
    "\n",
    "    if check(p2):\n",
    "        print([bin(p1), bin(p2)])\n",
    "        print('o나 x 3개가 나열되었습니다.')\n",
    "        return\n",
    "    \n",
    "    board = p1 | p2\n",
    "\n",
    "    if board == 0b111111111:\n",
    "        print([bin(p1), bin(p2)])\n",
    "        print('무승부입니다.')\n",
    "        return\n",
    "    \n",
    "    w = [i for i in range(9) if (board & (1 << i)) == 0]\n",
    "\n",
    "    r = random.choice(w)\n",
    "    play(p2, p1 | (1 << r))\n",
    "\n",
    "play(0, 0)\n"
   ]
  }
 ],
 "metadata": {
  "kernelspec": {
   "display_name": "Python 3",
   "language": "python",
   "name": "python3"
  },
  "language_info": {
   "codemirror_mode": {
    "name": "ipython",
    "version": 3
   },
   "file_extension": ".py",
   "mimetype": "text/x-python",
   "name": "python",
   "nbconvert_exporter": "python",
   "pygments_lexer": "ipython3",
   "version": "3.9.6 (default, Oct 18 2022, 12:41:40) \n[Clang 14.0.0 (clang-1400.0.29.202)]"
  },
  "orig_nbformat": 4,
  "vscode": {
   "interpreter": {
    "hash": "31f2aee4e71d21fbe5cf8b01ff0e069b9275f58929596ceb00d14d90e3e16cd6"
   }
  }
 },
 "nbformat": 4,
 "nbformat_minor": 2
}

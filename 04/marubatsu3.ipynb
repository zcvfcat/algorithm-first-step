{
 "cells": [
  {
   "cell_type": "code",
   "execution_count": 1,
   "metadata": {},
   "outputs": [],
   "source": [
    "import random\n",
    "\n",
    "goal = [0b111000000, 0b000111000, 0b000000111, 0b100100100,\n",
    "        0b010010010, 0b001001001, 0b100010001, 0b001010100]"
   ]
  },
  {
   "cell_type": "code",
   "execution_count": 2,
   "metadata": {},
   "outputs": [],
   "source": [
    "def check(player):\n",
    "    for mask in goal:\n",
    "        if player & mask == mask:\n",
    "            return True\n",
    "    return False"
   ]
  },
  {
   "cell_type": "code",
   "execution_count": 8,
   "metadata": {},
   "outputs": [],
   "source": [
    "def minmax(p1, p2, turn):\n",
    "    if check(p2):\n",
    "        if turn:\n",
    "            return 1\n",
    "        else:\n",
    "            return -1\n",
    "\n",
    "    board = p1 | p2\n",
    "\n",
    "    if board == 0b111111111:\n",
    "        return 0\n",
    "\n",
    "    w = [i for i in range(9) if (board & (1 << i)) == 0]\n",
    "\n",
    "    if turn:\n",
    "        return min([minmax(p2, p1 | (1 << i), not turn) for i in w])\n",
    "    else:\n",
    "        return max([minmax(p2, p1 | (1 << i), not turn) for i in w])"
   ]
  },
  {
   "cell_type": "code",
   "execution_count": 9,
   "metadata": {},
   "outputs": [
    {
     "name": "stdout",
     "output_type": "stream",
     "text": [
      "['0b10110001', '0b101001110']\n",
      "무승부입니다.\n"
     ]
    }
   ],
   "source": [
    "def play(p1, p2, turn):\n",
    "    if check(p2):\n",
    "        print([bin(p1), bin(p2)])\n",
    "        print('○나 × 3개가 나열되었습니다.')\n",
    "        return\n",
    "    board = p1 | p2\n",
    "\n",
    "    if board == 0b111111111:\n",
    "        print([bin(p1), bin(p2)])\n",
    "        print('무승부입니다.')\n",
    "        return\n",
    "    \n",
    "    w = [i for i in range(9) if (board & (1 << i)) == 0]\n",
    "\n",
    "    r = [minmax(p2, p1 | (1 << i), True) for i in w]\n",
    "\n",
    "    i = [i for i, x in enumerate(r) if x == max(r)]\n",
    "\n",
    "    j = w[random.choice(i)]\n",
    "    play(p2, p1 | (1 << j), not turn)\n",
    "\n",
    "play(0, 0, True)\n"
   ]
  }
 ],
 "metadata": {
  "kernelspec": {
   "display_name": "Python 3",
   "language": "python",
   "name": "python3"
  },
  "language_info": {
   "codemirror_mode": {
    "name": "ipython",
    "version": 3
   },
   "file_extension": ".py",
   "mimetype": "text/x-python",
   "name": "python",
   "nbconvert_exporter": "python",
   "pygments_lexer": "ipython3",
   "version": "3.9.6"
  },
  "orig_nbformat": 4,
  "vscode": {
   "interpreter": {
    "hash": "31f2aee4e71d21fbe5cf8b01ff0e069b9275f58929596ceb00d14d90e3e16cd6"
   }
  }
 },
 "nbformat": 4,
 "nbformat_minor": 2
}

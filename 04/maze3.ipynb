{
 "cells": [
  {
   "cell_type": "code",
   "execution_count": 1,
   "metadata": {},
   "outputs": [
    {
     "name": "stdout",
     "output_type": "stream",
     "text": [
      "28\n"
     ]
    }
   ],
   "source": [
    "maze = [\n",
    "    [9, 9, 9, 9, 9, 9, 9, 9, 9, 9, 9, 9],\n",
    "    [9, 0, 0, 0, 9, 0, 0, 0, 0, 0, 0, 9],\n",
    "    [9, 0, 9, 0, 0, 0, 9, 9, 0, 9, 9, 9],\n",
    "    [9, 0, 9, 9, 0, 9, 0, 0, 0, 9, 0, 9],\n",
    "    [9, 0, 0, 0, 9, 0, 0, 9, 9, 0, 9, 9],\n",
    "    [9, 9, 9, 0, 0, 9, 0, 9, 0, 0, 0, 9],\n",
    "    [9, 0, 0, 0, 9, 0, 9, 0, 0, 9, 1, 9],\n",
    "    [9, 0, 9, 0, 0, 0, 0, 9, 0, 0, 9, 9],\n",
    "    [9, 0, 0, 9, 0, 9, 0, 0, 9, 0, 0, 9],\n",
    "    [9, 0, 9, 0, 9, 0, 9, 0, 0, 9, 0, 9],\n",
    "    [9, 0, 0, 0, 0, 0, 0, 9, 0, 0, 0, 9],\n",
    "    [9, 9, 9, 9, 9, 9, 9, 9, 9, 9, 9, 9]\n",
    "]\n",
    "\n",
    "dir = [[1, 0], [0, 1], [-1, 0], [0, -1]]\n",
    "\n",
    "x, y, depth, d = 1, 1, 0, 0\n",
    "\n",
    "while maze[x][y] != 1:\n",
    "    maze[x][y] = 2\n",
    "\n",
    "    for i in range(len(dir)):\n",
    "        j = (d + i - 1) % len(dir)\n",
    "\n",
    "        if maze[x + dir[j][0]][y + dir[j][1]] < 2:\n",
    "            x += dir[j][0]\n",
    "            y += dir[j][1]\n",
    "\n",
    "            d = j\n",
    "            depth += 1\n",
    "            break\n",
    "        elif maze[x + dir[j][0]][y + dir[j][1]] == 2:\n",
    "            x += dir[j][0]\n",
    "            y += dir[j][1]\n",
    "\n",
    "            d = j\n",
    "            depth -= 1\n",
    "            break\n",
    "\n",
    "print(depth)\n"
   ]
  }
 ],
 "metadata": {
  "kernelspec": {
   "display_name": "Python 3",
   "language": "python",
   "name": "python3"
  },
  "language_info": {
   "codemirror_mode": {
    "name": "ipython",
    "version": 3
   },
   "file_extension": ".py",
   "mimetype": "text/x-python",
   "name": "python",
   "nbconvert_exporter": "python",
   "pygments_lexer": "ipython3",
   "version": "3.9.6 (default, Oct 18 2022, 12:41:40) \n[Clang 14.0.0 (clang-1400.0.29.202)]"
  },
  "orig_nbformat": 4,
  "vscode": {
   "interpreter": {
    "hash": "31f2aee4e71d21fbe5cf8b01ff0e069b9275f58929596ceb00d14d90e3e16cd6"
   }
  }
 },
 "nbformat": 4,
 "nbformat_minor": 2
}

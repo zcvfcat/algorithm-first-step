{
 "cells": [
  {
   "cell_type": "code",
   "execution_count": 1,
   "metadata": {},
   "outputs": [
    {
     "name": "stdout",
     "output_type": "stream",
     "text": [
      "6\n",
      "15\n",
      "4\n",
      "2\n",
      "8\n",
      "5\n",
      "11\n",
      "9\n",
      "7\n",
      "13\n",
      "\n",
      "1초씩 정지했다가 출력한 결과\n",
      "\n",
      "6\n",
      "15\n",
      "4\n",
      "2\n",
      "8\n",
      "5\n",
      "11\n",
      "9\n",
      "7\n",
      "13\n"
     ]
    }
   ],
   "source": [
    "import time\n",
    "\n",
    "data = [6, 15, 4, 2, 8, 5, 11, 9, 7, 13]\n",
    "\n",
    "for i in data:\n",
    "    print(i)\n",
    "\n",
    "print('\\n1초씩 정지했다가 출력한 결과\\n')\n",
    "\n",
    "for i in data:\n",
    "    print(i)\n",
    "    time.sleep(1)"
   ]
  }
 ],
 "metadata": {
  "kernelspec": {
   "display_name": "Python 3",
   "language": "python",
   "name": "python3"
  },
  "language_info": {
   "codemirror_mode": {
    "name": "ipython",
    "version": 3
   },
   "file_extension": ".py",
   "mimetype": "text/x-python",
   "name": "python",
   "nbconvert_exporter": "python",
   "pygments_lexer": "ipython3",
   "version": "3.9.6 (default, Oct 18 2022, 12:41:40) \n[Clang 14.0.0 (clang-1400.0.29.202)]"
  },
  "orig_nbformat": 4,
  "vscode": {
   "interpreter": {
    "hash": "31f2aee4e71d21fbe5cf8b01ff0e069b9275f58929596ceb00d14d90e3e16cd6"
   }
  }
 },
 "nbformat": 4,
 "nbformat_minor": 2
}

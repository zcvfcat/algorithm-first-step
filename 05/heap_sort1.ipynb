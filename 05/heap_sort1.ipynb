{
 "cells": [
  {
   "cell_type": "code",
   "execution_count": 3,
   "metadata": {},
   "outputs": [],
   "source": [
    "data = [6, 15, 4, 2, 8, 5, 11, 9, 7, 13]\n"
   ]
  },
  {
   "cell_type": "code",
   "execution_count": 5,
   "metadata": {},
   "outputs": [],
   "source": [
    "# 힙 구성\n",
    "for i in range(len(data)):\n",
    "    j = i\n",
    "    while (j > 0) and (data[(j - 1) // 2] < data[j]):\n",
    "        data[(j - 1) // 2], data[j] = data[j], data[(j - 1) // 2]\n",
    "        j = (j - 1) // 2"
   ]
  },
  {
   "cell_type": "code",
   "execution_count": 6,
   "metadata": {},
   "outputs": [
    {
     "name": "stdout",
     "output_type": "stream",
     "text": [
      "[2, 4, 5, 6, 7, 8, 9, 11, 13, 15]\n"
     ]
    }
   ],
   "source": [
    "# 정렬 실행\n",
    "for i in range(len(data), 0, -1):\n",
    "    # 힙의 맨 앞과 교환\n",
    "    data[i - 1], data[0] = data[0], data[i - 1]\n",
    "    j = 0\n",
    "\n",
    "    while ((2 * j + 1 < i - 1) and (data[j] < data[2 * j + 1])) or \\\n",
    "            ((2 * j + 2 < i - 1) and (data[j] < data[2 * j + 2])):\n",
    "\n",
    "        if (2 * j + 2 == i - 1) or (data[2 * j + 1] > data[2 * j + 2]):\n",
    "            # 왼쪽 아래와 교환\n",
    "            data[j], data[2 * j + 1] = data[2 * j + 1], data[j]\n",
    "            # 왼쪽 아래로 이동\n",
    "            j = 2 * j + 1\n",
    "        else:\n",
    "            # 오른쪽 아래와 교환\n",
    "            data[j], data[2 * j + 2] = data[2 * j + 2], data[j]\n",
    "            # 오른쪽 아래로 이동\n",
    "            j = 2 * j + 2\n",
    "\n",
    "print(data)\n"
   ]
  }
 ],
 "metadata": {
  "kernelspec": {
   "display_name": "Python 3",
   "language": "python",
   "name": "python3"
  },
  "language_info": {
   "codemirror_mode": {
    "name": "ipython",
    "version": 3
   },
   "file_extension": ".py",
   "mimetype": "text/x-python",
   "name": "python",
   "nbconvert_exporter": "python",
   "pygments_lexer": "ipython3",
   "version": "3.9.6"
  },
  "orig_nbformat": 4,
  "vscode": {
   "interpreter": {
    "hash": "31f2aee4e71d21fbe5cf8b01ff0e069b9275f58929596ceb00d14d90e3e16cd6"
   }
  }
 },
 "nbformat": 4,
 "nbformat_minor": 2
}

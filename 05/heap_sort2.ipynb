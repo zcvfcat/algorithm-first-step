{
 "cells": [
  {
   "cell_type": "code",
   "execution_count": 5,
   "metadata": {},
   "outputs": [],
   "source": [
    "def heapify(data, i):\n",
    "    left = 2 * i + 1\n",
    "    right = 2 * i + 2\n",
    "    size = len(data) - 1\n",
    "    \n",
    "    min = i\n",
    "\n",
    "    if left <= size and data[min] > data[left]:\n",
    "        min = left\n",
    "    if right <= size and data[min] > data[right]:\n",
    "        min = right\n",
    "    if min != i:\n",
    "        data[i], data[min] = data[min], data[i]\n",
    "        heapify(data, min)"
   ]
  },
  {
   "cell_type": "code",
   "execution_count": 6,
   "metadata": {},
   "outputs": [
    {
     "name": "stdout",
     "output_type": "stream",
     "text": [
      "[2, 4, 5, 6, 7, 8, 9, 11, 13, 15]\n"
     ]
    }
   ],
   "source": [
    "data = [6, 15, 4, 2, 8, 5, 11, 9, 7, 13]\n",
    "\n",
    "for i in reversed(range(len(data) // 2)):\n",
    "    heapify(data, i)\n",
    "\n",
    "sorted_data = []\n",
    "for _ in range(len(data)):\n",
    "    data[0], data[-1] = data[-1], data[0]\n",
    "    sorted_data.append(data.pop())\n",
    "    heapify(data, 0)\n",
    "\n",
    "print(sorted_data)"
   ]
  }
 ],
 "metadata": {
  "kernelspec": {
   "display_name": "Python 3",
   "language": "python",
   "name": "python3"
  },
  "language_info": {
   "codemirror_mode": {
    "name": "ipython",
    "version": 3
   },
   "file_extension": ".py",
   "mimetype": "text/x-python",
   "name": "python",
   "nbconvert_exporter": "python",
   "pygments_lexer": "ipython3",
   "version": "3.9.6"
  },
  "orig_nbformat": 4,
  "vscode": {
   "interpreter": {
    "hash": "31f2aee4e71d21fbe5cf8b01ff0e069b9275f58929596ceb00d14d90e3e16cd6"
   }
  }
 },
 "nbformat": 4,
 "nbformat_minor": 2
}

{
 "cells": [
  {
   "cell_type": "code",
   "execution_count": 6,
   "metadata": {},
   "outputs": [],
   "source": [
    "import heapq\n",
    "\n",
    "def astar(edges, nodes, goal):\n",
    "    dist = [float('inf')] * len(nodes)\n",
    "    dist[0] = 0\n",
    "    q = []\n",
    "    \n",
    "    heapq.heappush(q, [0, [0]])\n",
    "\n",
    "    while len(q) > 0:\n",
    "        _, u = heapq.heappop(q)\n",
    "        last = u[-1]\n",
    "\n",
    "        if last == goal:\n",
    "            return u\n",
    "\n",
    "        for i in edges[last]:\n",
    "            if dist[i[0]] > dist[last] + i[1]:\n",
    "                dist[i[0]] = dist[last] + i[1]\n",
    "                heapq.heappush(q, [dist[last] + i[1] + nodes[i[0]], u + [i[0]]])\n",
    "    return []"
   ]
  },
  {
   "cell_type": "code",
   "execution_count": 2,
   "metadata": {},
   "outputs": [],
   "source": [
    "nodes = [10, 14, 10, 10, 9, 9, 5, 0, 9, 8, 6, 4, 7, 3]\n",
    "\n",
    "edges = [\n",
    "    [[4, 1], [5, 1]],\n",
    "    [[2, 12], [3, 4], [4, 15]],\n",
    "    [[1, 12], [9, 2], [11, 6]],\n",
    "    [[1, 4], [5, 3], [8, 3]],\n",
    "    [[1, 15], [0, 1], [6, 6]],\n",
    "    [[0, 1], [3, 3], [6, 4]],\n",
    "    [[4, 6], [5, 4], [10, 1]],\n",
    "    [[11, 4], [13, 5]],\n",
    "    [[3, 3], [9, 1], [10, 5]],\n",
    "    [[2, 2], [8, 1], [12, 1]],\n",
    "    [[6, 1], [8, 5], [13, 3]],\n",
    "    [[2, 6], [7, 4], [12, 5]],\n",
    "    [[9, 1], [11, 5], [13, 6]],\n",
    "    [[7, 5], [10, 3], [12, 6]]\n",
    "]"
   ]
  },
  {
   "cell_type": "code",
   "execution_count": 7,
   "metadata": {},
   "outputs": [
    {
     "name": "stdout",
     "output_type": "stream",
     "text": [
      "[0, 5, 6, 10, 13, 7]\n"
     ]
    }
   ],
   "source": [
    "print(astar(edges, nodes, 7))\n"
   ]
  }
 ],
 "metadata": {
  "kernelspec": {
   "display_name": "Python 3",
   "language": "python",
   "name": "python3"
  },
  "language_info": {
   "codemirror_mode": {
    "name": "ipython",
    "version": 3
   },
   "file_extension": ".py",
   "mimetype": "text/x-python",
   "name": "python",
   "nbconvert_exporter": "python",
   "pygments_lexer": "ipython3",
   "version": "3.9.6"
  },
  "orig_nbformat": 4,
  "vscode": {
   "interpreter": {
    "hash": "31f2aee4e71d21fbe5cf8b01ff0e069b9275f58929596ceb00d14d90e3e16cd6"
   }
  }
 },
 "nbformat": 4,
 "nbformat_minor": 2
}

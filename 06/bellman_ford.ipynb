{
 "cells": [
  {
   "cell_type": "code",
   "execution_count": 1,
   "metadata": {},
   "outputs": [],
   "source": [
    "def bellman_ford(edges, num_v):\n",
    "    dist = [float('inf') for _ in range(num_v)]\n",
    "    dist[0] = 0\n",
    "\n",
    "    changed = True\n",
    "    while changed:\n",
    "        changed = False\n",
    "        for edge in edges:\n",
    "            if dist[edge[1]] > dist[edge[0]] + edge[2]:\n",
    "                dist[edge[1]] = dist[edge[0]] + edge[2]\n",
    "                changed = True\n",
    "\n",
    "    return dist"
   ]
  },
  {
   "cell_type": "code",
   "execution_count": 3,
   "metadata": {},
   "outputs": [],
   "source": [
    "edges = [\n",
    "    [0, 1, 4], [0, 2, 3], [1, 2, 1], [1, 3, 1],\n",
    "    [1, 4, 5], [2, 5, 2], [4, 6, 2], [5, 4, 1],\n",
    "    [5, 6, 4]\n",
    "]"
   ]
  },
  {
   "cell_type": "code",
   "execution_count": 4,
   "metadata": {},
   "outputs": [
    {
     "name": "stdout",
     "output_type": "stream",
     "text": [
      "[0, 4, 3, 5, 6, 5, 8]\n"
     ]
    }
   ],
   "source": [
    "print(bellman_ford(edges, 7))"
   ]
  }
 ],
 "metadata": {
  "kernelspec": {
   "display_name": "Python 3",
   "language": "python",
   "name": "python3"
  },
  "language_info": {
   "codemirror_mode": {
    "name": "ipython",
    "version": 3
   },
   "file_extension": ".py",
   "mimetype": "text/x-python",
   "name": "python",
   "nbconvert_exporter": "python",
   "pygments_lexer": "ipython3",
   "version": "3.9.6"
  },
  "orig_nbformat": 4,
  "vscode": {
   "interpreter": {
    "hash": "31f2aee4e71d21fbe5cf8b01ff0e069b9275f58929596ceb00d14d90e3e16cd6"
   }
  }
 },
 "nbformat": 4,
 "nbformat_minor": 2
}

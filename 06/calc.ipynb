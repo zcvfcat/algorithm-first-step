{
 "cells": [
  {
   "cell_type": "code",
   "execution_count": 3,
   "metadata": {},
   "outputs": [],
   "source": [
    "# 후위 표현식\n",
    "\n",
    "def calc(expression):\n",
    "    stack = []\n",
    "\n",
    "    for i in expression.split(' '):\n",
    "        # 현재 스택의 내용을 표시\n",
    "        print(stack)\n",
    "\n",
    "        if i == '+':\n",
    "            # +의 경우 스택에서 요소 두 개를 꺼내 더한 뒤 다시 저장\n",
    "            b, a = stack.pop(), stack.pop()\n",
    "            stack.append(a + b)\n",
    "        elif i == '-':\n",
    "            # -의 경우 스택에서 요소 두 개를 꺼내 뺀 뒤 다시 저장\n",
    "            b, a = stack.pop(), stack.pop()\n",
    "            stack.append(a - b)\n",
    "        elif i == '*':\n",
    "            # *의 경우 스택에서 요소 두 개를 꺼내 곱한 뒤 다시 저장\n",
    "            b, a = stack.pop(), stack.pop()\n",
    "            stack.append(a * b)\n",
    "        elif i == '/':\n",
    "            # *의 경우 스택에서 요소 두 개를 꺼내 나눈 뒤 다시 저장\n",
    "            b, a = stack.pop(), stack.pop()\n",
    "            stack.append(a // b)\n",
    "        else:\n",
    "            # 연산자 이외(숫자)인 경우 그 값을 저장\n",
    "            stack.append(int(i))\n",
    "    return stack[0]"
   ]
  },
  {
   "cell_type": "code",
   "execution_count": 4,
   "metadata": {},
   "outputs": [
    {
     "name": "stdout",
     "output_type": "stream",
     "text": [
      "[]\n",
      "[4]\n",
      "[4, 6]\n",
      "[4, 6, 2]\n",
      "[4, 8]\n",
      "[32]\n",
      "[32, 3]\n",
      "[32, 3, 1]\n",
      "[32, 2]\n",
      "[32, 2, 5]\n",
      "[32, 10]\n",
      "22\n"
     ]
    }
   ],
   "source": [
    "print(calc('4 6 2 + * 3 1 - 5 * -'))"
   ]
  }
 ],
 "metadata": {
  "kernelspec": {
   "display_name": "Python 3",
   "language": "python",
   "name": "python3"
  },
  "language_info": {
   "codemirror_mode": {
    "name": "ipython",
    "version": 3
   },
   "file_extension": ".py",
   "mimetype": "text/x-python",
   "name": "python",
   "nbconvert_exporter": "python",
   "pygments_lexer": "ipython3",
   "version": "3.9.6"
  },
  "orig_nbformat": 4,
  "vscode": {
   "interpreter": {
    "hash": "31f2aee4e71d21fbe5cf8b01ff0e069b9275f58929596ceb00d14d90e3e16cd6"
   }
  }
 },
 "nbformat": 4,
 "nbformat_minor": 2
}

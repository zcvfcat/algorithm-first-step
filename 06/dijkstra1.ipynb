{
 "cells": [
  {
   "cell_type": "code",
   "execution_count": 1,
   "metadata": {},
   "outputs": [],
   "source": [
    "def dijkstra(edges, num_v):\n",
    "    dist = [float('inf')] * num_v\n",
    "    dist[0] = 0\n",
    "    q = [i for i in range(num_v)]\n",
    "\n",
    "    while len(q) > 0:\n",
    "        r = q[0]\n",
    "\n",
    "        for i in q:\n",
    "            if dist[i] < dist[r]:\n",
    "                r = i\n",
    "\n",
    "        u = q.pop(q.index(r))\n",
    "        for i in edges[u]:\n",
    "            if dist[i[0]] > dist[u] + i[1]:\n",
    "                dist[i[0]] = dist[u] + i[1]\n",
    "        \n",
    "    return dist"
   ]
  },
  {
   "cell_type": "code",
   "execution_count": 2,
   "metadata": {},
   "outputs": [
    {
     "name": "stdout",
     "output_type": "stream",
     "text": [
      "[0, 4, 3, 5, 6, 5, 8]\n"
     ]
    }
   ],
   "source": [
    "edges = [\n",
    "    [[1, 4], [2, 3]],\n",
    "    [[2, 1], [3, 1], [4, 5]],\n",
    "    [[5, 2]],\n",
    "    [[4, 3]],\n",
    "    [[6, 2]],\n",
    "    [[4, 1], [6, 4]],\n",
    "    []\n",
    "]\n",
    "\n",
    "print(dijkstra(edges, 7))"
   ]
  }
 ],
 "metadata": {
  "kernelspec": {
   "display_name": "Python 3",
   "language": "python",
   "name": "python3"
  },
  "language_info": {
   "codemirror_mode": {
    "name": "ipython",
    "version": 3
   },
   "file_extension": ".py",
   "mimetype": "text/x-python",
   "name": "python",
   "nbconvert_exporter": "python",
   "pygments_lexer": "ipython3",
   "version": "3.9.6"
  },
  "orig_nbformat": 4,
  "vscode": {
   "interpreter": {
    "hash": "31f2aee4e71d21fbe5cf8b01ff0e069b9275f58929596ceb00d14d90e3e16cd6"
   }
  }
 },
 "nbformat": 4,
 "nbformat_minor": 2
}

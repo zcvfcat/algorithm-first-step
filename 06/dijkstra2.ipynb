{
 "cells": [
  {
   "cell_type": "code",
   "execution_count": 1,
   "metadata": {},
   "outputs": [],
   "source": [
    "def min_heapify(data, i):\n",
    "    left = 2 * i + 1\n",
    "    right = 2 * i + 2\n",
    "    min = i\n",
    "\n",
    "    if left < len(data) and data[i][0] > data[left][0]:\n",
    "        min = left\n",
    "    if right < len(data) and data[min][0] > data[right][0]:\n",
    "        min = right\n",
    "    if min != i:\n",
    "        data[i], data[min] = data[min], data[i]\n",
    "        min_heapify(data, min)"
   ]
  },
  {
   "cell_type": "code",
   "execution_count": 8,
   "metadata": {},
   "outputs": [],
   "source": [
    "def dijkstra(edges, num_v):\n",
    "    dist = [float('inf')] * num_v\n",
    "    dist[0] = 0\n",
    "    q = [[0, 0]]\n",
    "\n",
    "    while len(q) > 0:\n",
    "        q[0], q[-1] = q[-1], q[0]\n",
    "        _, u = q.pop()\n",
    "\n",
    "        min_heapify(q, 0)\n",
    "\n",
    "        for i in edges[u]:\n",
    "            if dist[i[0]] > dist[u] + i[1]:\n",
    "                dist[i[0]] = dist[u] + i[1]\n",
    "                q.append([dist[u] + i[1], i[0]])\n",
    "                j = len(q) - 1\n",
    "                while (j > 0) and (q[(j - 1) // 2] > q[j]):\n",
    "                    q[(j - 1) // 2], q[j] = q[j], q[(j - 1)//2]\n",
    "                    j = (j - 1) // 2\n",
    "    return dist\n"
   ]
  },
  {
   "cell_type": "code",
   "execution_count": 9,
   "metadata": {},
   "outputs": [
    {
     "name": "stdout",
     "output_type": "stream",
     "text": [
      "[0, 4, 3, 5, 6, 5, 8]\n"
     ]
    }
   ],
   "source": [
    "edges = [\n",
    "    [[1, 4], [2, 3]],\n",
    "    [[2, 1], [3, 1], [4, 5]],\n",
    "    [[5, 2]],\n",
    "    [[4, 3]],\n",
    "    [[6, 2]],\n",
    "    [[4, 1], [6, 4]],\n",
    "    []\n",
    "]\n",
    "\n",
    "print(dijkstra(edges, 7))"
   ]
  }
 ],
 "metadata": {
  "kernelspec": {
   "display_name": "Python 3",
   "language": "python",
   "name": "python3"
  },
  "language_info": {
   "codemirror_mode": {
    "name": "ipython",
    "version": 3
   },
   "file_extension": ".py",
   "mimetype": "text/x-python",
   "name": "python",
   "nbconvert_exporter": "python",
   "pygments_lexer": "ipython3",
   "version": "3.9.6"
  },
  "orig_nbformat": 4,
  "vscode": {
   "interpreter": {
    "hash": "31f2aee4e71d21fbe5cf8b01ff0e069b9275f58929596ceb00d14d90e3e16cd6"
   }
  }
 },
 "nbformat": 4,
 "nbformat_minor": 2
}

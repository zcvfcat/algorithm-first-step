{
 "cells": [
  {
   "cell_type": "code",
   "execution_count": 1,
   "metadata": {},
   "outputs": [
    {
     "name": "stdout",
     "output_type": "stream",
     "text": [
      "462\n"
     ]
    }
   ],
   "source": [
    "M, N = 6, 5\n",
    "\n",
    "route = [[0 for _ in range(N + 1)] for _ in range(M + 1)]\n",
    "\n",
    "for i in range(M + 1):\n",
    "    route[i][0] = 1\n",
    "\n",
    "for i in range(1, N + 1):\n",
    "    route[0][i] = 1\n",
    "    for j in range(1, M + 1):\n",
    "        route[j][i] = route[j - 1][i] + route[j][i - 1]\n",
    "\n",
    "print(route[M][N])\n"
   ]
  }
 ],
 "metadata": {
  "kernelspec": {
   "display_name": "Python 3",
   "language": "python",
   "name": "python3"
  },
  "language_info": {
   "codemirror_mode": {
    "name": "ipython",
    "version": 3
   },
   "file_extension": ".py",
   "mimetype": "text/x-python",
   "name": "python",
   "nbconvert_exporter": "python",
   "pygments_lexer": "ipython3",
   "version": "3.9.6"
  },
  "orig_nbformat": 4,
  "vscode": {
   "interpreter": {
    "hash": "31f2aee4e71d21fbe5cf8b01ff0e069b9275f58929596ceb00d14d90e3e16cd6"
   }
  }
 },
 "nbformat": 4,
 "nbformat_minor": 2
}

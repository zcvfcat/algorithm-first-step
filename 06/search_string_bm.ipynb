{
 "cells": [
  {
   "cell_type": "code",
   "execution_count": 1,
   "metadata": {},
   "outputs": [
    {
     "name": "stdout",
     "output_type": "stream",
     "text": [
      "9\n"
     ]
    }
   ],
   "source": [
    "text = list('DYITBOOK DYSHOP')\n",
    "pattern = list('DYS')\n",
    "skip = {}\n",
    "\n",
    "for i in range(len(pattern) - 1):\n",
    "    skip[pattern[i]] = len(pattern) - i - 1\n",
    "\n",
    "i = len(pattern) - 1\n",
    "while i < len(text):\n",
    "    match = True\n",
    "\n",
    "    for j in range(len(pattern)):\n",
    "        if text[i - j] != pattern[len(pattern) - 1 - j]:\n",
    "            match = False\n",
    "            break\n",
    "\n",
    "    if match:\n",
    "        print(i - len(pattern) + 1)\n",
    "        break\n",
    "\n",
    "    if text[i] in skip:\n",
    "        i += skip[text[i]]\n",
    "    else:\n",
    "        i += len(pattern)"
   ]
  }
 ],
 "metadata": {
  "kernelspec": {
   "display_name": "Python 3",
   "language": "python",
   "name": "python3"
  },
  "language_info": {
   "codemirror_mode": {
    "name": "ipython",
    "version": 3
   },
   "file_extension": ".py",
   "mimetype": "text/x-python",
   "name": "python",
   "nbconvert_exporter": "python",
   "pygments_lexer": "ipython3",
   "version": "3.9.6"
  },
  "orig_nbformat": 4,
  "vscode": {
   "interpreter": {
    "hash": "31f2aee4e71d21fbe5cf8b01ff0e069b9275f58929596ceb00d14d90e3e16cd6"
   }
  }
 },
 "nbformat": 4,
 "nbformat_minor": 2
}

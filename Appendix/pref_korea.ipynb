{
 "cells": [
  {
   "cell_type": "code",
   "execution_count": 1,
   "metadata": {},
   "outputs": [],
   "source": [
    "# 목푯값\n",
    "goal = 5000000\n",
    "\n",
    "# 각 도시의 인구\n",
    "pref = [\n",
    "    3416918, 2925967, 2453041, 1525849, 1496172, 1193894, 1147037, \n",
    "    1068641, 1061440, 1044579, 942649, 840047, 828947, 818760, \n",
    "    702545, 654963, 652845, 650599, 565392, 542713, 521642, \n",
    "    506494, 489202\n",
    "]\n",
    "\n",
    "# 500만 명에 가까운 인구 수\n",
    "min_total = 0\n",
    "\n",
    "# 두 지역의 인구 수를 저장하는 임시 변수\n",
    "local_temp = 0\n",
    "\n",
    "# 지역 1~3 인구 수의 인덱스를 저장\n",
    "local_index1 = 0\n",
    "local_index2 = 0\n",
    "local_index3 = 0"
   ]
  },
  {
   "cell_type": "code",
   "execution_count": 2,
   "metadata": {},
   "outputs": [
    {
     "name": "stdout",
     "output_type": "stream",
     "text": [
      "5000000\n",
      "521642\n",
      "3416918\n",
      "1061440\n"
     ]
    }
   ],
   "source": [
    "def search(total, pos):\n",
    "    global min_total, local_temp, local_index1, local_index2, local_index3\n",
    "\n",
    "    if pos >= len(pref):\n",
    "        return\n",
    "    \n",
    "    if total < goal:\n",
    "        if abs(goal - (total + pref[pos])) < abs(goal - min_total):\n",
    "            min_total = total + pref[pos]\n",
    "            local_temp = total\n",
    "            local_index1 = pos\n",
    "        search(total + pref[pos], pos + 1)\n",
    "        search(total, pos + 1)\n",
    "\n",
    "    for local_index2 in range(22):\n",
    "        for local_index3 in range(22):\n",
    "            if local_temp - pref[local_index2] == pref[local_index3]:\n",
    "                break\n",
    "        break\n",
    "\n",
    "search(0, 0)\n",
    "print(min_total)\n",
    "print(pref[local_index1])\n",
    "print(pref[local_index2])\n",
    "print(pref[local_index3])"
   ]
  }
 ],
 "metadata": {
  "kernelspec": {
   "display_name": "Python 3",
   "language": "python",
   "name": "python3"
  },
  "language_info": {
   "codemirror_mode": {
    "name": "ipython",
    "version": 3
   },
   "file_extension": ".py",
   "mimetype": "text/x-python",
   "name": "python",
   "nbconvert_exporter": "python",
   "pygments_lexer": "ipython3",
   "version": "3.9.6"
  },
  "orig_nbformat": 4,
  "vscode": {
   "interpreter": {
    "hash": "31f2aee4e71d21fbe5cf8b01ff0e069b9275f58929596ceb00d14d90e3e16cd6"
   }
  }
 },
 "nbformat": 4,
 "nbformat_minor": 2
}
